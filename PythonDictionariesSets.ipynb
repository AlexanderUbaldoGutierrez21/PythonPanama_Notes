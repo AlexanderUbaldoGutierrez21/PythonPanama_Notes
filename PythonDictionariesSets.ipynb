{
  "nbformat": 4,
  "nbformat_minor": 0,
  "metadata": {
    "colab": {
      "provenance": [],
      "authorship_tag": "ABX9TyNj1we0wDLnmKL92wV+WJTH",
      "include_colab_link": true
    },
    "kernelspec": {
      "name": "python3",
      "display_name": "Python 3"
    },
    "language_info": {
      "name": "python"
    }
  },
  "cells": [
    {
      "cell_type": "markdown",
      "metadata": {
        "id": "view-in-github",
        "colab_type": "text"
      },
      "source": [
        "<a href=\"https://colab.research.google.com/github/AlexanderUbaldoGutierrez21/PythonPanama_Notes1/blob/main/PythonDictionariesSets.ipynb\" target=\"_parent\"><img src=\"https://colab.research.google.com/assets/colab-badge.svg\" alt=\"Open In Colab\"/></a>"
      ]
    },
    {
      "cell_type": "code",
      "execution_count": null,
      "metadata": {
        "id": "jAwQWFVS1Jag"
      },
      "outputs": [],
      "source": [
        "# Tipos de Datos Compuestos\n",
        "# Listas, Diccionarios, Conjuntos(Sets), Tuplas"
      ]
    },
    {
      "cell_type": "code",
      "source": [
        "# Listas, una colección de objetos, mutables, tipos arbitrarios, puede contener duplicados\n",
        "# No tienen tamaño fijo. Pueden contener tantos elementos como quepan en memoria\n",
        "# Los elementos van ordenados por posición\n",
        "# Se acceden usando la sintaxis: [index], los índices van de 0 a n-1, donde n es el número de elementos de la lista\n",
        "# Son un tipo de secuencia, al igual que los strings\n",
        "# Por lo tanto, el orden (es decir, la posición de los objetos de la lista) es importante"
      ],
      "metadata": {
        "id": "oXFKS5HDwzrV"
      },
      "execution_count": null,
      "outputs": []
    },
    {
      "cell_type": "code",
      "source": [
        "#Creacion de listas\n",
        "\n",
        "letras = ['a', 'b', 'c', 'd']\n",
        "palabras = 'Hola mundo'.split()\n",
        "numeros = list(range(5))\n",
        "\n",
        "print(letras)\n",
        "print(palabras)\n",
        "print(numeros)\n",
        "print(type(numeros))"
      ],
      "metadata": {
        "colab": {
          "base_uri": "https://localhost:8080/"
        },
        "id": "hnDQoxeTvZHL",
        "outputId": "b6f411ae-9e39-4cca-f739-cee8e26c76e5"
      },
      "execution_count": null,
      "outputs": [
        {
          "output_type": "stream",
          "name": "stdout",
          "text": [
            "['a', 'b', 'c', 'd']\n",
            "['Hola', 'mundo']\n",
            "[0, 1, 2, 3, 4]\n",
            "<class 'list'>\n"
          ]
        }
      ]
    },
    {
      "cell_type": "code",
      "source": [
        "# Pueden contener elementos arbitrarios\n",
        "\n",
        "mezcla = [1, 3.4, 'a', None, False]\n",
        "print(mezcla)"
      ],
      "metadata": {
        "colab": {
          "base_uri": "https://localhost:8080/"
        },
        "id": "t_y8Sa15vigB",
        "outputId": "e453dfc4-040e-40d4-f30c-49e0446d2585"
      },
      "execution_count": null,
      "outputs": [
        {
          "output_type": "stream",
          "name": "stdout",
          "text": [
            "[1, 3.4, 'a', None, False]\n"
          ]
        }
      ]
    },
    {
      "cell_type": "code",
      "source": [
        "# Pueden contener duplicados\n",
        "\n",
        "lista_con_duplicados = [1, 2, 3, 3, 3, 4]\n",
        "print(lista_con_duplicados)"
      ],
      "metadata": {
        "colab": {
          "base_uri": "https://localhost:8080/"
        },
        "id": "AcmJbG_PvoUV",
        "outputId": "27164aad-e457-41f3-ae8b-26be546c7987"
      },
      "execution_count": null,
      "outputs": [
        {
          "output_type": "stream",
          "name": "stdout",
          "text": [
            "[1, 2, 3, 3, 3, 4]\n"
          ]
        }
      ]
    },
    {
      "cell_type": "code",
      "source": [
        "#Obtención de la longitud de una lista.\n",
        "\n",
        "letras = ['a', 'b', 'c', 'd']\n",
        "print(len(letras))"
      ],
      "metadata": {
        "colab": {
          "base_uri": "https://localhost:8080/"
        },
        "id": "VU2FFMFuv2Mz",
        "outputId": "f50a80fb-5757-4fee-f28b-f60b5febd192"
      },
      "execution_count": null,
      "outputs": [
        {
          "output_type": "stream",
          "name": "stdout",
          "text": [
            "4\n"
          ]
        }
      ]
    },
    {
      "cell_type": "code",
      "source": [
        "#Acceso a un elemento de una lista\n",
        "\n",
        "print(letras[2])\n",
        "print(letras[-1])"
      ],
      "metadata": {
        "colab": {
          "base_uri": "https://localhost:8080/"
        },
        "id": "HJ3p_aDov782",
        "outputId": "850eb45c-a210-4f47-c33e-4d30d265c509"
      },
      "execution_count": null,
      "outputs": [
        {
          "output_type": "stream",
          "name": "stdout",
          "text": [
            "c\n",
            "d\n"
          ]
        }
      ]
    },
    {
      "cell_type": "code",
      "source": [
        "#Slicing\n",
        "\n",
        "letras = ['a', 'b', 'c', 'd']\n",
        "\n",
        "print(letras[1:3])\n",
        "print(letras[:1])\n",
        "print(letras[:-1])\n",
        "print(letras[2:])\n",
        "print(letras[:])\n",
        "print(letras[2::3])"
      ],
      "metadata": {
        "colab": {
          "base_uri": "https://localhost:8080/"
        },
        "id": "2dAgjm43v_of",
        "outputId": "61550e12-63eb-478e-925c-e305fb738749"
      },
      "execution_count": null,
      "outputs": [
        {
          "output_type": "stream",
          "name": "stdout",
          "text": [
            "['b', 'c']\n",
            "['a']\n",
            "['a', 'b', 'c']\n",
            "['c', 'd']\n",
            "['a', 'b', 'c', 'd']\n",
            "['c']\n"
          ]
        }
      ]
    },
    {
      "cell_type": "code",
      "source": [
        "#Anadir elemento\n",
        "\n",
        "letras.append('e')\n",
        "print(letras)"
      ],
      "metadata": {
        "colab": {
          "base_uri": "https://localhost:8080/"
        },
        "id": "798jMMICwHuT",
        "outputId": "8c946b66-b7ac-4d65-ca14-7472ac8a7e88"
      },
      "execution_count": null,
      "outputs": [
        {
          "output_type": "stream",
          "name": "stdout",
          "text": [
            "['a', 'b', 'c', 'd', 'e']\n"
          ]
        }
      ]
    },
    {
      "cell_type": "code",
      "source": [
        "#Insertar en posicion\n",
        "\n",
        "letras.insert(1,'z')\n",
        "print(letras)"
      ],
      "metadata": {
        "colab": {
          "base_uri": "https://localhost:8080/"
        },
        "id": "h_EZYvExwJBn",
        "outputId": "f919070b-3c5a-4d24-efa5-df1d0fb854d2"
      },
      "execution_count": null,
      "outputs": [
        {
          "output_type": "stream",
          "name": "stdout",
          "text": [
            "['a', 'z', 'b', 'c', 'd', 'e']\n"
          ]
        }
      ]
    },
    {
      "cell_type": "code",
      "source": [
        "#Modificacion de listas\n",
        "\n",
        "letras[5] = 'f'\n",
        "print(letras)"
      ],
      "metadata": {
        "colab": {
          "base_uri": "https://localhost:8080/"
        },
        "id": "cqxwjL7swMbK",
        "outputId": "3906fcdc-6bf9-4172-a86b-ca78c80c5b4c"
      },
      "execution_count": null,
      "outputs": [
        {
          "output_type": "stream",
          "name": "stdout",
          "text": [
            "['a', 'z', 'b', 'c', 'd', 'f']\n"
          ]
        }
      ]
    },
    {
      "cell_type": "code",
      "source": [
        "#Eliminar elemento\n",
        "\n",
        "letras.remove(letras[2])\n",
        "print(letras)"
      ],
      "metadata": {
        "colab": {
          "base_uri": "https://localhost:8080/"
        },
        "id": "QUB3zul4wQTE",
        "outputId": "1043be0b-33a2-4002-b014-b641cd79bd99"
      },
      "execution_count": null,
      "outputs": [
        {
          "output_type": "stream",
          "name": "stdout",
          "text": [
            "['a', 'z', 'c', 'd', 'f']\n"
          ]
        }
      ]
    },
    {
      "cell_type": "code",
      "source": [
        "#Ordenar una lista\n",
        "\n",
        "lista = [4,3,8,1]\n",
        "lista.sort()\n",
        "print(lista)\n",
        "\n",
        "lista.sort(reverse=True)\n",
        "print(lista)"
      ],
      "metadata": {
        "colab": {
          "base_uri": "https://localhost:8080/"
        },
        "id": "L4SH87hpwWiW",
        "outputId": "288cb158-e11c-4a8b-e81f-27bbd2a1fad6"
      },
      "execution_count": null,
      "outputs": [
        {
          "output_type": "stream",
          "name": "stdout",
          "text": [
            "[1, 3, 4, 8]\n",
            "[8, 4, 3, 1]\n"
          ]
        }
      ]
    },
    {
      "cell_type": "code",
      "source": [
        "#Anidamiento de listas\n",
        "\n",
        "letras = ['a', 'b', 'c', 2, 1.8,'python',['hola','playa']]\n",
        "print(letras[2:5])"
      ],
      "metadata": {
        "colab": {
          "base_uri": "https://localhost:8080/"
        },
        "id": "d1qYR8pxwqgV",
        "outputId": "1c1f09bd-0cbb-4658-a447-52b26b4aafe0"
      },
      "execution_count": null,
      "outputs": [
        {
          "output_type": "stream",
          "name": "stdout",
          "text": [
            "['c', 2, 1.8]\n"
          ]
        }
      ]
    },
    {
      "cell_type": "code",
      "source": [
        "# Diccionarios, Colección de parejas clave-valor. Son mutables\n",
        "# Claves: Cualquier objeto inmutable, Sólo pueden aparecer una vez en el diccionario\n",
        "# Valores: Sin restricciones, Cualquier objeto (enteros, strings, listas, etc.) puede hacer de valor"
      ],
      "metadata": {
        "id": "5BejgVkHVYPb"
      },
      "execution_count": null,
      "outputs": []
    },
    {
      "cell_type": "code",
      "source": [
        "# Creación simple, usando una expresión literal\n",
        "\n",
        "persona = {'DNI' : '11111111D', 'Nombre' : 'Carlos', 'Edad' : 34}\n",
        "perro = {'nombre':'Firulais','edad':7,'raza':'poodle'}\n",
        "print(persona)\n",
        "print(perro)"
      ],
      "metadata": {
        "colab": {
          "base_uri": "https://localhost:8080/"
        },
        "id": "UYEV63EjZ38W",
        "outputId": "195439bc-e858-464d-b4d5-f717a2e9cb1b"
      },
      "execution_count": null,
      "outputs": [
        {
          "output_type": "stream",
          "name": "stdout",
          "text": [
            "{'DNI': '11111111D', 'Nombre': 'Carlos', 'Edad': 34}\n",
            "{'nombre': 'Firulais', 'edad': 7, 'raza': 'poodle'}\n"
          ]
        }
      ]
    },
    {
      "cell_type": "code",
      "source": [
        "# Creación uniendo dos colecciones\n",
        "\n",
        "nombres = ['Pablo', 'Manolo', 'Pepe']\n",
        "edades = [52, 14, 65]\n",
        "\n",
        "datos = dict(zip(nombres,edades))\n",
        "print(datos)"
      ],
      "metadata": {
        "colab": {
          "base_uri": "https://localhost:8080/"
        },
        "id": "w430nL8PaBlZ",
        "outputId": "ac758ded-b748-4124-da9a-f480c89d7ffe"
      },
      "execution_count": null,
      "outputs": [
        {
          "output_type": "stream",
          "name": "stdout",
          "text": [
            "{'Pablo': 52, 'Manolo': 14, 'Pepe': 65}\n"
          ]
        }
      ]
    },
    {
      "cell_type": "code",
      "source": [
        "# Creación incremental por medio de asignación (como las claves no existen, se crean nuevos items)\n",
        "\n",
        "persona = {}\n",
        "persona['DNI'] = '11111111D'\n",
        "persona['Nombre'] = 'Carlos'\n",
        "persona['Edad'] = 34\n",
        "\n",
        "print(persona)"
      ],
      "metadata": {
        "id": "ZO_lqRQkaR4u",
        "outputId": "bdf5b74b-a2f7-431b-e0c3-52031f61ec74",
        "colab": {
          "base_uri": "https://localhost:8080/"
        }
      },
      "execution_count": null,
      "outputs": [
        {
          "output_type": "stream",
          "name": "stdout",
          "text": [
            "{'DNI': '11111111D', 'Nombre': 'Carlos', 'Edad': 34}\n"
          ]
        }
      ]
    },
    {
      "cell_type": "code",
      "source": [
        "#Acceso a traves de claves\n",
        "\n",
        "persona = {'DNI' : '11111111D', 'Nombre' : 'Carlos', 'Edad' : 34}\n",
        "print(persona['DNI'])"
      ],
      "metadata": {
        "id": "IVhYJs3QaGkD",
        "colab": {
          "base_uri": "https://localhost:8080/"
        },
        "outputId": "002aad76-c570-4618-e3bb-a6c4d6b81a2d"
      },
      "execution_count": null,
      "outputs": [
        {
          "output_type": "stream",
          "name": "stdout",
          "text": [
            "11111111D\n"
          ]
        }
      ]
    },
    {
      "cell_type": "code",
      "source": [
        "#Modificacion a traves de claves\n",
        "\n",
        "persona = {'DNI' : '11111111D', 'Nombre' : 'Carlos', 'Edad' : 34}\n",
        "persona['Nombre'] = 'Fernando'\n",
        "persona['Edad'] += 1\n",
        "\n",
        "print(persona)"
      ],
      "metadata": {
        "colab": {
          "base_uri": "https://localhost:8080/"
        },
        "id": "TkB3MMlntVAx",
        "outputId": "2192ce9d-aa39-42d8-dc0b-5376a9df449e"
      },
      "execution_count": null,
      "outputs": [
        {
          "output_type": "stream",
          "name": "stdout",
          "text": [
            "{'DNI': '11111111D', 'Nombre': 'Fernando', 'Edad': 35}\n"
          ]
        }
      ]
    },
    {
      "cell_type": "code",
      "source": [
        "#Agregar valor\n",
        "\n",
        "persona = {'DNI' : '11111111D', 'Nombre' : 'Carlos', 'Edad' : 34}\n",
        "persona['Ciudad'] = 'Panamá'\n",
        "\n",
        "print(persona)"
      ],
      "metadata": {
        "id": "pjqXbWRdtWgB",
        "outputId": "20afdc90-f4f3-44f3-93aa-7a6bd91f08cc",
        "colab": {
          "base_uri": "https://localhost:8080/"
        }
      },
      "execution_count": null,
      "outputs": [
        {
          "output_type": "stream",
          "name": "stdout",
          "text": [
            "{'DNI': '11111111D', 'Nombre': 'Carlos', 'Edad': 34, 'Ciudad': 'Panamá'}\n"
          ]
        }
      ]
    }
  ]
}