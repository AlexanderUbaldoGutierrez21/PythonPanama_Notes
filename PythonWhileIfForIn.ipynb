{
  "nbformat": 4,
  "nbformat_minor": 0,
  "metadata": {
    "colab": {
      "provenance": [],
      "authorship_tag": "ABX9TyNWFXWO20QvmDGCcbO5sGkc",
      "include_colab_link": true
    },
    "kernelspec": {
      "name": "python3",
      "display_name": "Python 3"
    },
    "language_info": {
      "name": "python"
    }
  },
  "cells": [
    {
      "cell_type": "markdown",
      "metadata": {
        "id": "view-in-github",
        "colab_type": "text"
      },
      "source": [
        "<a href=\"https://colab.research.google.com/github/AlexanderUbaldoGutierrez21/PythonPanama_Notes1/blob/main/PythonWhileIfForIn.ipynb\" target=\"_parent\"><img src=\"https://colab.research.google.com/assets/colab-badge.svg\" alt=\"Open In Colab\"/></a>"
      ]
    },
    {
      "cell_type": "code",
      "execution_count": null,
      "metadata": {
        "colab": {
          "base_uri": "https://localhost:8080/"
        },
        "id": "9VVkxLLFCjLX",
        "outputId": "dd1dd9d1-14fd-48ca-b759-55d42b716c60"
      },
      "outputs": [
        {
          "output_type": "stream",
          "name": "stdout",
          "text": [
            "9\n",
            "4\n",
            "7\n"
          ]
        }
      ],
      "source": [
        "# Bucle - Repetición de un Bloque de Código\n",
        "# while - Repetición de un Bloque de Código hasta que se deje cumplir una expresión (false)\n",
        "# Mostrar los primeros tres objetos de una lista\n",
        "indice = 0\n",
        "numeros = [9, 4, 7, 1, 2]\n",
        "while indice < 3:\n",
        "  print(numeros[indice])\n",
        "  indice += 1"
      ]
    },
    {
      "cell_type": "code",
      "source": [
        "numeros = [33, 3, 9, 21, 1, 7, 12, 10, 8]\n",
        "contador = 0\n",
        "indice = 0\n",
        "\n",
        "while indice < len(numeros):\n",
        "  if numeros[indice] < 10:\n",
        "    print(numeros[indice])\n",
        "    contador += 1\n",
        "  indice += 1\n",
        "\n",
        "print(\"Contador:\", contador)\n",
        "print(\"Indice:\", indice)"
      ],
      "metadata": {
        "colab": {
          "base_uri": "https://localhost:8080/"
        },
        "id": "WJWZwHG_FXtd",
        "outputId": "ac0ed4f7-08c3-420e-c3c4-51a93635812c"
      },
      "execution_count": null,
      "outputs": [
        {
          "output_type": "stream",
          "name": "stdout",
          "text": [
            "3\n",
            "9\n",
            "1\n",
            "7\n",
            "8\n",
            "Contador: 5\n",
            "Indice: 9\n"
          ]
        }
      ]
    },
    {
      "cell_type": "code",
      "source": [
        "nombre = \"Pablo\"\n",
        "while nombre: # Mientras \"nombre\" no sea vacío\n",
        "     print(nombre)\n",
        "     nombre = nombre[1:]"
      ],
      "metadata": {
        "colab": {
          "base_uri": "https://localhost:8080/"
        },
        "id": "UQT3GAegJOKR",
        "outputId": "9a80523f-ed7d-42e3-eccd-7e39c5caabaf"
      },
      "execution_count": null,
      "outputs": [
        {
          "output_type": "stream",
          "name": "stdout",
          "text": [
            "Pablo\n",
            "ablo\n",
            "blo\n",
            "lo\n",
            "o\n"
          ]
        }
      ]
    },
    {
      "cell_type": "code",
      "source": [
        "# for -\n",
        "peliculas = [23, \"Avatar\", \"Star Wars\"]\n",
        "for pelicula in peliculas:\n",
        "  print(pelicula)"
      ],
      "metadata": {
        "colab": {
          "base_uri": "https://localhost:8080/"
        },
        "id": "2cI7_Vz0Kmb7",
        "outputId": "59ab8d95-ae1c-48d1-eac4-a5891bf3f57c"
      },
      "execution_count": null,
      "outputs": [
        {
          "output_type": "stream",
          "name": "stdout",
          "text": [
            "23\n",
            "Avatar\n",
            "Star Wars\n"
          ]
        }
      ]
    },
    {
      "cell_type": "code",
      "source": [
        "# Iterar un número preestablecido\n",
        "for i in range (10)"
      ],
      "metadata": {
        "id": "zIourLhVLDIZ"
      },
      "execution_count": null,
      "outputs": []
    },
    {
      "cell_type": "code",
      "source": [
        "nombre = \"Pablo\"\n",
        "for i in range(len(nombre)):\n",
        "  print(nombre[i])"
      ],
      "metadata": {
        "colab": {
          "base_uri": "https://localhost:8080/"
        },
        "id": "iAXjkNWeLP6t",
        "outputId": "f9087521-13ee-4843-9df7-f65fd04a97c1"
      },
      "execution_count": null,
      "outputs": [
        {
          "metadata": {
            "tags": null
          },
          "name": "stdout",
          "output_type": "stream",
          "text": [
            "P\n",
            "a\n",
            "b\n",
            "l\n",
            "o\n"
          ]
        }
      ]
    },
    {
      "cell_type": "code",
      "source": [
        "# Iteracción de diccionarios. Se iteran las claves\n",
        "diccionario = {\"a\" : 1, \"b\" : 2, \"c\" : 3}\n",
        "for key in diccionario:\n",
        "  print(key, \"=>\", diccionario[key])"
      ],
      "metadata": {
        "colab": {
          "base_uri": "https://localhost:8080/"
        },
        "id": "v6DS3PcJLnXN",
        "outputId": "fe6f2e72-68ec-47a6-98ce-a5084f863f4f"
      },
      "execution_count": null,
      "outputs": [
        {
          "output_type": "stream",
          "name": "stdout",
          "text": [
            "a => 1\n",
            "b => 2\n",
            "c => 3\n"
          ]
        }
      ]
    },
    {
      "cell_type": "code",
      "source": [
        "# Break y Continue\n",
        "calificacion_a_encontrar = 4.2\n",
        "calificaciones_peliculas = [4.9, 2.5, 1.7, 4.2, 3.8, 3.3, 2.9]\n",
        "\n",
        "for calificacion in calificaciones_peliculas:\n",
        "  print(calificacion)\n",
        "  if calificacion == calificacion_a_encontrar\n"
      ],
      "metadata": {
        "id": "4oWPaA_QMH9d",
        "outputId": "086fe3a6-d639-4b56-efbe-97ca42657f34",
        "colab": {
          "base_uri": "https://localhost:8080/",
          "height": 105
        }
      },
      "execution_count": null,
      "outputs": [
        {
          "output_type": "error",
          "ename": "SyntaxError",
          "evalue": "expected ':' (<ipython-input-1-8450371acf46>, line 7)",
          "traceback": [
            "\u001b[0;36m  File \u001b[0;32m\"<ipython-input-1-8450371acf46>\"\u001b[0;36m, line \u001b[0;32m7\u001b[0m\n\u001b[0;31m    if calificacion == calificacion_a_encontrar\u001b[0m\n\u001b[0m                                               ^\u001b[0m\n\u001b[0;31mSyntaxError\u001b[0m\u001b[0;31m:\u001b[0m expected ':'\n"
          ]
        }
      ]
    }
  ]
}