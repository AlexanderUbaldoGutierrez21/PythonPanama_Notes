{
  "nbformat": 4,
  "nbformat_minor": 0,
  "metadata": {
    "colab": {
      "provenance": [],
      "authorship_tag": "ABX9TyOhphZLcaExnVrILIUuJyqX",
      "include_colab_link": true
    },
    "kernelspec": {
      "name": "python3",
      "display_name": "Python 3"
    },
    "language_info": {
      "name": "python"
    }
  },
  "cells": [
    {
      "cell_type": "markdown",
      "metadata": {
        "id": "view-in-github",
        "colab_type": "text"
      },
      "source": [
        "<a href=\"https://colab.research.google.com/github/AlexanderUbaldoGutierrez21/PythonPanama_Notes1/blob/main/VariableListsTuples.ipynb\" target=\"_parent\"><img src=\"https://colab.research.google.com/assets/colab-badge.svg\" alt=\"Open In Colab\"/></a>"
      ]
    },
    {
      "cell_type": "code",
      "source": [
        "# Crear una variable\n",
        "nombre = \"Alex\"\n",
        "print(\"Hola, \" + nombre)"
      ],
      "metadata": {
        "colab": {
          "base_uri": "https://localhost:8080/"
        },
        "id": "xGFEuBm9y48r",
        "outputId": "2f6ce0e4-0e99-48f0-ba68-9a074969f07d"
      },
      "execution_count": null,
      "outputs": [
        {
          "output_type": "stream",
          "name": "stdout",
          "text": [
            "Hola, Alex\n"
          ]
        }
      ]
    },
    {
      "cell_type": "code",
      "source": [
        "# Reasignación de variable\n",
        "nombre = \"Ana\"\n",
        "print(\"Hola, \" + nombre)"
      ],
      "metadata": {
        "colab": {
          "base_uri": "https://localhost:8080/"
        },
        "id": "g8sncW_D0LX3",
        "outputId": "0e60a4b8-019a-4e0d-e76b-6b534b1fcabd"
      },
      "execution_count": null,
      "outputs": [
        {
          "output_type": "stream",
          "name": "stdout",
          "text": [
            "Hola, Ana\n"
          ]
        }
      ]
    },
    {
      "cell_type": "code",
      "source": [
        "# Estructuras Condicionales\n",
        "nota = 85\n",
        "if nota >= 90:\n",
        "  print(\"Tienes calificación A\")\n",
        "elif nota >= 80:\n",
        "  print(\"Tienes calificación B\")\n",
        "elif nota >= 70:\n",
        "  print(\"Tienes calificación C\")\n",
        "else:\n",
        "  print(\"Tienes calificación D\")"
      ],
      "metadata": {
        "colab": {
          "base_uri": "https://localhost:8080/"
        },
        "id": "3F31aanB1O-4",
        "outputId": "ffc6342b-6cf7-4556-b27d-9b1fa2d448ed"
      },
      "execution_count": null,
      "outputs": [
        {
          "output_type": "stream",
          "name": "stdout",
          "text": [
            "Tienes calificación B\n"
          ]
        }
      ]
    },
    {
      "cell_type": "code",
      "source": [
        "# % - Resultado de Operación y División / == Igual que != Diferente que\n",
        "num = 400\n",
        "if num > 0 and num % 2 == 0:\n",
        "  print(\"El número es positivo y par\")\n",
        "elif num > 0 and num % 2 != 0:\n",
        "  print (\"El número es positivo e impar\")\n",
        "elif num < 0:\n",
        "  print (\"El número es negativo\")\n",
        "else:\n",
        "  print(\"El número es cero\")"
      ],
      "metadata": {
        "colab": {
          "base_uri": "https://localhost:8080/"
        },
        "id": "kAZvlBuo7gAX",
        "outputId": "05dec6f3-9176-47c9-d486-e024cc782402"
      },
      "execution_count": null,
      "outputs": [
        {
          "output_type": "stream",
          "name": "stdout",
          "text": [
            "El número es positivo y par\n"
          ]
        }
      ]
    },
    {
      "cell_type": "code",
      "source": [
        "import random\n",
        "ClaseA01 = list(range(1,20)) # Crear una lista de números\n",
        "random.shuffle(ClaseA01) # Mezclar la lista forma aliatoria\n",
        "grupos = [ClaseA01[i:i+5]for i in range(0, len(ClaseA01), 5)] # Dividir la lista en grupos de 5\n",
        "for i, grupo in enumerate(grupos): # Impirmir los grupos\n",
        "  print(f\"Grupo {i+1}: {grupo}\")"
      ],
      "metadata": {
        "colab": {
          "base_uri": "https://localhost:8080/"
        },
        "id": "PbnpbM9FAHIM",
        "outputId": "d8b221d0-6e5f-484d-aeab-60a89bd6c3a3"
      },
      "execution_count": null,
      "outputs": [
        {
          "output_type": "stream",
          "name": "stdout",
          "text": [
            "Grupo 1: [2, 7, 3, 4, 9]\n",
            "Grupo 2: [17, 15, 8, 16, 18]\n",
            "Grupo 3: [12, 10, 1, 11, 6]\n",
            "Grupo 4: [14, 5, 13, 19]\n"
          ]
        }
      ]
    },
    {
      "cell_type": "code",
      "source": [
        "# Listas [Se pueden modificar]\n",
        "colores = [\"amarillo\", \"azul\", \"rojo\"]\n",
        "num = [1, 2, 3, 4, 5]"
      ],
      "metadata": {
        "id": "bq8L_dzKL3vN"
      },
      "execution_count": null,
      "outputs": []
    },
    {
      "cell_type": "code",
      "source": [
        "primer_num = num[0]\n",
        "print(\"Primer número:\", primer_num)"
      ],
      "metadata": {
        "colab": {
          "base_uri": "https://localhost:8080/"
        },
        "id": "ehG8obDjM17s",
        "outputId": "ed0a2621-6fe1-4787-e878-b82372a25c2c"
      },
      "execution_count": null,
      "outputs": [
        {
          "output_type": "stream",
          "name": "stdout",
          "text": [
            "Primer número: 1\n"
          ]
        }
      ]
    },
    {
      "cell_type": "code",
      "source": [
        "num[4] = 10 # Modificando el último número\n",
        "primer_ult = num[4]\n",
        "print(\"Primer número:\", primer_ult)"
      ],
      "metadata": {
        "colab": {
          "base_uri": "https://localhost:8080/"
        },
        "id": "NoLvQ9FzNnjF",
        "outputId": "a83c5992-42e6-4b5d-9a53-4baffbfefa7a"
      },
      "execution_count": null,
      "outputs": [
        {
          "output_type": "stream",
          "name": "stdout",
          "text": [
            "Primer número: 10\n"
          ]
        }
      ]
    },
    {
      "cell_type": "code",
      "source": [
        "print(num)"
      ],
      "metadata": {
        "colab": {
          "base_uri": "https://localhost:8080/"
        },
        "id": "kZWH8C0qErjO",
        "outputId": "a8cbd8c8-60c8-467c-8d3c-905905dec53c"
      },
      "execution_count": null,
      "outputs": [
        {
          "output_type": "stream",
          "name": "stdout",
          "text": [
            "[1, 2, 3, 4, 10]\n"
          ]
        }
      ]
    },
    {
      "cell_type": "code",
      "source": [
        "longitud = len(num)\n",
        "print(longitud)"
      ],
      "metadata": {
        "colab": {
          "base_uri": "https://localhost:8080/"
        },
        "id": "RZcYRzacF7O-",
        "outputId": "189186e7-785b-495b-a022-137c3becda0e"
      },
      "execution_count": null,
      "outputs": [
        {
          "output_type": "stream",
          "name": "stdout",
          "text": [
            "5\n"
          ]
        }
      ]
    },
    {
      "cell_type": "code",
      "source": [
        "# Agregar Elemento con Append\n",
        "num.append(5)\n",
        "print(num)"
      ],
      "metadata": {
        "colab": {
          "base_uri": "https://localhost:8080/"
        },
        "id": "vUtI1G-kJl4-",
        "outputId": "ef6fe611-7d3f-4225-ce9f-b6539152be12"
      },
      "execution_count": null,
      "outputs": [
        {
          "output_type": "stream",
          "name": "stdout",
          "text": [
            "[1, 2, 3, 4, 10, 5]\n"
          ]
        }
      ]
    },
    {
      "cell_type": "code",
      "source": [
        "# Remover Elemento con Remove\n",
        "num.remove(10)\n",
        "print(num)"
      ],
      "metadata": {
        "colab": {
          "base_uri": "https://localhost:8080/"
        },
        "id": "qfO0rROhKAep",
        "outputId": "82ef8425-7b3c-4f1c-ee48-268838f96e52"
      },
      "execution_count": null,
      "outputs": [
        {
          "output_type": "stream",
          "name": "stdout",
          "text": [
            "[1, 2, 3, 4, 5]\n"
          ]
        }
      ]
    },
    {
      "cell_type": "code",
      "source": [
        "# Revertir Números en la Lista\n",
        "num.sort(reverse=True)\n",
        "print(num)"
      ],
      "metadata": {
        "colab": {
          "base_uri": "https://localhost:8080/"
        },
        "id": "-irGkTLlKOjk",
        "outputId": "8e1f7f8c-3c95-4447-c9d9-4b3fe571bb84"
      },
      "execution_count": null,
      "outputs": [
        {
          "output_type": "stream",
          "name": "stdout",
          "text": [
            "[5, 4, 3, 2, 1]\n"
          ]
        }
      ]
    },
    {
      "cell_type": "code",
      "source": [
        "# Revertír Números a Posición Orginal\n",
        "num.sort()\n",
        "print(num)"
      ],
      "metadata": {
        "colab": {
          "base_uri": "https://localhost:8080/"
        },
        "id": "i7Nb-bt4Ka26",
        "outputId": "86e8b001-e0b7-497a-a9dc-3ee15f6cf9d5"
      },
      "execution_count": null,
      "outputs": [
        {
          "output_type": "stream",
          "name": "stdout",
          "text": [
            "[1, 2, 3, 4, 5]\n"
          ]
        }
      ]
    },
    {
      "cell_type": "code",
      "source": [
        "# Tuplas (No se pueden modificar)\n",
        "tupla = (1, 2, 3, 4, 5)\n",
        "a, b, c, d, e = tupla\n",
        "def coordenadas():\n",
        "  x = 10\n",
        "  y = 20\n",
        "  return x, y\n",
        "puntos_referencia = coordenadas()\n",
        "print(puntos_referencia)\n"
      ],
      "metadata": {
        "colab": {
          "base_uri": "https://localhost:8080/"
        },
        "id": "K753qwrgQ_Iu",
        "outputId": "9bfccc67-1df7-497e-d5d3-acf95dc4af64"
      },
      "execution_count": null,
      "outputs": [
        {
          "output_type": "stream",
          "name": "stdout",
          "text": [
            "(10, 20)\n"
          ]
        }
      ]
    }
  ]
}