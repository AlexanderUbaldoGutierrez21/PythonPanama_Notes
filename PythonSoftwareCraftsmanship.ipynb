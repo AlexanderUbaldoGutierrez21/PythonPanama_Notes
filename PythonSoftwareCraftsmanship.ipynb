{
  "cells": [
    {
      "cell_type": "markdown",
      "metadata": {
        "id": "view-in-github",
        "colab_type": "text"
      },
      "source": [
        "<a href=\"https://colab.research.google.com/github/AlexanderUbaldoGutierrez21/PythonPanama_Notes1/blob/main/PythonSoftwareCraftsmanship.ipynb\" target=\"_parent\"><img src=\"https://colab.research.google.com/assets/colab-badge.svg\" alt=\"Open In Colab\"/></a>"
      ]
    },
    {
      "cell_type": "markdown",
      "id": "conceptual-dutch",
      "metadata": {
        "id": "conceptual-dutch"
      },
      "source": [
        "# Software Craftsmanship"
      ]
    },
    {
      "cell_type": "markdown",
      "id": "informational-stephen",
      "metadata": {
        "id": "informational-stephen"
      },
      "source": [
        "* Movimiento que enfatiza la **excelencia técnica** como clave del éxito en la construcción de productos software.\n",
        "* Nace como respuesta a:\n",
        "   * Ingenieros de software que se centran más en el aprendizaje de nuevos frameworks y herramientas en lugar de buenas prácticas de ingeniería.\n",
        "   * La percepción de que en la industria del software se valora más el trabajo de gestión que el trabajo técnico.\n",
        "      * Se intenta ser productivo sin prestar atención a la excelencia técnica.\n",
        "\n",
        "> **No se puede ser productivo si el código sobre el que trabajamos es de baja calidad.**"
      ]
    },
    {
      "cell_type": "markdown",
      "id": "designing-logistics",
      "metadata": {
        "id": "designing-logistics"
      },
      "source": [
        "<img src=\"img/craftsmanship.jpg\" width=\"700\">"
      ]
    },
    {
      "cell_type": "markdown",
      "id": "abandoned-fishing",
      "metadata": {
        "id": "abandoned-fishing"
      },
      "source": [
        "## Libros relevantes"
      ]
    },
    {
      "cell_type": "markdown",
      "id": "concerned-caution",
      "metadata": {
        "id": "concerned-caution"
      },
      "source": [
        "1.  Mancuso, S: *The Software Craftsman: Professionalism, Pragmatism, Pride*. Robert C. Martin Series. Prentice Hall (2014)\n",
        "\n",
        "2. McConnell, S: *Code Complete*. Pearson Education (2004)\n",
        "\n",
        "3. Martin, R. C: *Clean Code: A Handbook of Agile Software Craftsmanship*. Prentice Hall (2008)"
      ]
    },
    {
      "cell_type": "markdown",
      "id": "super-calvin",
      "metadata": {
        "id": "super-calvin"
      },
      "source": [
        "## Buenas prácticas de ingeniería software"
      ]
    },
    {
      "cell_type": "markdown",
      "id": "periodic-slide",
      "metadata": {
        "id": "periodic-slide"
      },
      "source": [
        "#### Nombrado de variables"
      ]
    },
    {
      "cell_type": "markdown",
      "id": "psychological-wilderness",
      "metadata": {
        "id": "psychological-wilderness"
      },
      "source": [
        "* Se puede incrementar mucho la legibilidad del código a través de variables con nombres descriptivos.\n",
        "* Es desaconsejable el uso de \"números mágicos\": números que aparecen en el código sin explicación de su significado.\n",
        "\n",
        "Compara:"
      ]
    },
    {
      "cell_type": "code",
      "execution_count": null,
      "id": "computational-moore",
      "metadata": {
        "id": "computational-moore"
      },
      "outputs": [],
      "source": [
        "class Employee:\n",
        "    def pay(self, amount):\n",
        "        pass\n",
        "\n",
        "employee = Employee()\n",
        "\n",
        "employee.pay(15 * 8)"
      ]
    },
    {
      "cell_type": "code",
      "execution_count": null,
      "id": "massive-enzyme",
      "metadata": {
        "id": "massive-enzyme"
      },
      "outputs": [],
      "source": [
        "hourly_rate = 15\n",
        "\n",
        "employee.pay(hourly_rate * 8)"
      ]
    },
    {
      "cell_type": "code",
      "execution_count": null,
      "id": "driven-prescription",
      "metadata": {
        "id": "driven-prescription"
      },
      "outputs": [],
      "source": [
        "hours_per_day = 8\n",
        "\n",
        "employee.pay(hourly_rate * hours_per_day)"
      ]
    },
    {
      "cell_type": "code",
      "execution_count": null,
      "id": "optional-relaxation",
      "metadata": {
        "id": "optional-relaxation"
      },
      "outputs": [],
      "source": [
        "total_amount = hourly_rate * hours_per_day\n",
        "\n",
        "employee.pay(total_amount)"
      ]
    },
    {
      "cell_type": "markdown",
      "id": "indoor-grade",
      "metadata": {
        "id": "indoor-grade"
      },
      "source": [
        "#### Comentarios"
      ]
    },
    {
      "cell_type": "markdown",
      "id": "infectious-adult",
      "metadata": {
        "tags": [],
        "id": "infectious-adult"
      },
      "source": [
        "* Los comentarios son positivos para facilitar la comprensión del código, pero pueden perjudicar si se hace mal uso de ellos.\n",
        "* Un comentario no debería usarse para explicar código ilegible. La solución es reescribir el código para que sea más legible.\n",
        "* Los comentarios tienen el peligro de que pueden quedarse obsoletos y mentir acerca del código.\n",
        "\n",
        "> **La única verdad acerca de un sistema software reside en el código fuente**.\n",
        "\n",
        "Tipos de comentarios a evitar:"
      ]
    },
    {
      "cell_type": "markdown",
      "id": "cardiovascular-hometown",
      "metadata": {
        "id": "cardiovascular-hometown"
      },
      "source": [
        "**Comentarios con información inapropiada**\n",
        "\n",
        "* Es conveniente evitar comentarios que contengan información que se puede proporcionar fácilmente a través de otro medio.\n",
        "* Este tipo de comentarios es difícil de mantener."
      ]
    },
    {
      "cell_type": "code",
      "execution_count": null,
      "id": "recreational-adrian",
      "metadata": {
        "id": "recreational-adrian"
      },
      "outputs": [],
      "source": [
        "# Employee class.\n",
        "# History of changes.\n",
        "# 2021-02-23 - Pablo Pérez - implementation of pay method\n",
        "# 2021-02-27 - Eva López - refactoring: split pay method in two.\n",
        "# ....\n",
        "\n",
        "class Employee:\n",
        "    pass"
      ]
    },
    {
      "cell_type": "markdown",
      "id": "present-savage",
      "metadata": {
        "id": "present-savage"
      },
      "source": [
        "**Comentario obsoleto**\n",
        "\n",
        "* Cuando un comentario se queda obsoleto, miente y confunde en lugar de ayudar.\n",
        "* Siempre que veamos un comentario obsoleto, lo mejor es eliminarlo, o al menos tratar de actualizarlo."
      ]
    },
    {
      "cell_type": "code",
      "execution_count": null,
      "id": "empty-expansion",
      "metadata": {
        "id": "empty-expansion"
      },
      "outputs": [],
      "source": [
        "# Esta variable almacena el número total de empleados en la empresa\n",
        "empleados_con_contrato_parcial = 32"
      ]
    },
    {
      "cell_type": "markdown",
      "id": "eleven-hands",
      "metadata": {
        "id": "eleven-hands"
      },
      "source": [
        "**Comentario redundante**\n",
        "\n",
        "* Los comentarios no deben repetir lo que ya diga el código de manera clara.\n",
        "* Suelen aparecer cuando los comentarios son requeridos por algún tipo de convención o guía de estilo."
      ]
    },
    {
      "cell_type": "code",
      "execution_count": null,
      "id": "intermediate-column",
      "metadata": {
        "id": "intermediate-column"
      },
      "outputs": [],
      "source": [
        "i = 0\n",
        "i += 1  # Incrementa i\n",
        "\n",
        "# Esta función devuelve el número de empleados\n",
        "def obtener_numero_empleados():\n",
        "    pass"
      ]
    },
    {
      "cell_type": "markdown",
      "id": "unlike-diploma",
      "metadata": {
        "tags": [],
        "id": "unlike-diploma"
      },
      "source": [
        "**Comentario mal escrito**\n",
        "\n",
        "* Los comentarios ocupan espacio en el código. Cuando escribamos uno, debemos esforzarnos en que sea el mejor comentario que podamos escribir: bien redactado y sin faltas de ortografía."
      ]
    },
    {
      "cell_type": "markdown",
      "id": "controlled-calculation",
      "metadata": {
        "id": "controlled-calculation"
      },
      "source": [
        "**Código comentado**\n",
        "\n",
        "* Debemos evitar dejar código comentado.\n",
        "* El sistema de control de versiones recuerda todos los estados en los cuales nuestro código ha estado en el pasado.\n",
        "* El código comentado se hace más y más irrelevante conforme pasa el tiempo."
      ]
    },
    {
      "cell_type": "markdown",
      "id": "threatened-flooring",
      "metadata": {
        "id": "threatened-flooring"
      },
      "source": [
        "#### Separación vertical"
      ]
    },
    {
      "cell_type": "markdown",
      "id": "minimal-investigator",
      "metadata": {
        "id": "minimal-investigator"
      },
      "source": [
        "* Es importante que las variables se declaren cerca de su primer uso y no tengan una vida de cientos de líneas.\n",
        "* Evitar declarar todas las variables al inicio de una función.\n",
        "    * Da la sensación de que todas las variables se usan durante toda la función, lo cual no tiene porque ser cierto.\n",
        "* Cuando los usos de una variable están separados, modificaciones en el medio pueden introducir errores."
      ]
    },
    {
      "cell_type": "markdown",
      "id": "careful-marijuana",
      "metadata": {
        "id": "careful-marijuana"
      },
      "source": [
        "#### Funciones"
      ]
    },
    {
      "cell_type": "markdown",
      "id": "enhanced-mumbai",
      "metadata": {
        "id": "enhanced-mumbai"
      },
      "source": [
        "* Es conveniente escribir funciones *cohesivas*:\n",
        "   * Cortas.\n",
        "   * Enfocadas a realizar solo una labor, no muchas.\n",
        "   * Nombres descriptivos.\n",
        "   * Pocos parámetros."
      ]
    },
    {
      "cell_type": "markdown",
      "id": "elegant-ethernet",
      "metadata": {
        "id": "elegant-ethernet"
      },
      "source": [
        "**Número de parámetros**\n",
        "\n",
        "Cuando una función tiene muchos parámetros:\n",
        "\n",
        "* Alto coste de mantenimiento:\n",
        "   * Cualquier modificación de la lista de parámetros impacta a todos los que llaman a la función.\n",
        "* Difícil lectura:\n",
        "   * Entender tanto la firma de la función como cualquier llamada a la función requiere mucho esfuerzo mental.\n",
        "   \n",
        "¿Cual es estas dos invocaciones a función es más fácil de entender?"
      ]
    },
    {
      "cell_type": "code",
      "execution_count": null,
      "id": "dirty-pursuit",
      "metadata": {
        "id": "dirty-pursuit"
      },
      "outputs": [],
      "source": [
        "payment_service.deliver_pay_to(employee)\n",
        "\n",
        "payment_service.deliver_pay_to(employee, \"H_Emp\", \"SW Dept\", 2150, True, False)"
      ]
    },
    {
      "cell_type": "markdown",
      "id": "thermal-playlist",
      "metadata": {
        "id": "thermal-playlist"
      },
      "source": [
        "**Parámetros booleanos**\n",
        "\n",
        "* Es conveniente evitar (en la medida de lo posible) los parámetros booleanos.\n",
        "* Las funciones que reciben parámetros booleanos suelen hacer dos cosas: una para el caso 'True' y otra para el caso 'False'\n",
        "* Suele ser mejor dividir la función en dos que hagan sólo una cosa cada una.\n",
        "\n"
      ]
    },
    {
      "cell_type": "markdown",
      "id": "final-repair",
      "metadata": {
        "id": "final-repair"
      },
      "source": [
        "#### Encapsulación de condicionales"
      ]
    },
    {
      "cell_type": "markdown",
      "id": "small-resolution",
      "metadata": {
        "id": "small-resolution"
      },
      "source": [
        "* Cuando una condición es compleja, es conveniente encapsularla en una función para hacer el código más legible.\n",
        "\n"
      ]
    },
    {
      "cell_type": "markdown",
      "id": "japanese-associate",
      "metadata": {
        "id": "japanese-associate"
      },
      "source": [
        "* Al encapsular condiciones, trata de evitar siempre nombres negativos. Expresar la negación de una función con nombre negativo (doble negación) es poco legible.\n",
        "\n"
      ]
    },
    {
      "cell_type": "markdown",
      "id": "italian-charles",
      "metadata": {
        "id": "italian-charles"
      },
      "source": [
        "#### Duplicación de código"
      ]
    },
    {
      "cell_type": "markdown",
      "id": "diverse-blend",
      "metadata": {
        "id": "diverse-blend"
      },
      "source": [
        "* El código duplicado introduce dificultades de mantenimiento.\n",
        "    * Cuando queremos actualizarlo, hay que modificar todas las partes donde el código duplicado aparece, lo que es costoso y propenso a erorres.\n",
        "    \n",
        "* Es conveniente crear abstracciones (variables, funciones o clases) para eliminar el código duplicado.\n",
        "\n"
      ]
    },
    {
      "cell_type": "markdown",
      "id": "cooked-cornwall",
      "metadata": {
        "id": "cooked-cornwall"
      },
      "source": [
        "#### Consistencia"
      ]
    },
    {
      "cell_type": "markdown",
      "id": "binding-transcript",
      "metadata": {
        "id": "binding-transcript"
      },
      "source": [
        "* Sé consistente. Cuando hagas algo de una forma, hazlo siempre de la misma forma.\n",
        "* No hacerlo introduce complejidad innecesaria.\n",
        "* Al programar, especialmente al hacerlo en equipo, es importante definir una guía de estilo y seguirla en la medida de lo posible.\n",
        "\n"
      ]
    }
  ],
  "metadata": {
    "kernelspec": {
      "display_name": "Python 3",
      "language": "python",
      "name": "python3"
    },
    "language_info": {
      "codemirror_mode": {
        "name": "ipython",
        "version": 3
      },
      "file_extension": ".py",
      "mimetype": "text/x-python",
      "name": "python",
      "nbconvert_exporter": "python",
      "pygments_lexer": "ipython3",
      "version": "3.9.2"
    },
    "colab": {
      "provenance": [],
      "include_colab_link": true
    }
  },
  "nbformat": 4,
  "nbformat_minor": 5
}